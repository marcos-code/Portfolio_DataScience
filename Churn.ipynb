{
  "nbformat": 4,
  "nbformat_minor": 0,
  "metadata": {
    "colab": {
      "name": "Churn.ipynb",
      "provenance": [],
      "authorship_tag": "ABX9TyMZl4NYut1LgblWwL3uWfBA",
      "include_colab_link": true
    },
    "kernelspec": {
      "name": "python3",
      "display_name": "Python 3"
    },
    "language_info": {
      "name": "python"
    }
  },
  "cells": [
    {
      "cell_type": "markdown",
      "metadata": {
        "id": "view-in-github",
        "colab_type": "text"
      },
      "source": [
        "<a href=\"https://colab.research.google.com/github/marcos-code/sigmoidal_datascience/blob/main/Churn.ipynb\" target=\"_parent\"><img src=\"https://colab.research.google.com/assets/colab-badge.svg\" alt=\"Open In Colab\"/></a>"
      ]
    },
    {
      "cell_type": "markdown",
      "metadata": {
        "id": "kPl8cYqY5iGF"
      },
      "source": [
        "Churn rate é uma métrica utilizada na gestão de clientes que mostra a taxa de consumidores que uma empresa perdeu em determinado período e o total de receitas envolvidas nesse processo. Seu cálculo considera o número de clientes perdidos na comparação com o total que o negócio possuía no início da relação.\n",
        "\n",
        "![](https://www.livechatinc.com/wp-content/uploads/2016/04/churn-rate@2x.jpg)\n",
        "\n",
        "Ela é de extrema importância para a administração e sua análise ao longo do tempo pode mostrar que existe algum problema que deve ser atacado.\n",
        "\n",
        "Churn também pode ser usado para identificar potenciais cancelamentos, com um tempo de antecedência, e promover ações direcionadas para tentar reter tais clientes. Essa métrica deve receber atenção pelo fato de que o Custo de Aquisição de Cliente (CAC) é normalmente mais alto que o custo para mantê-los. Ou seja, um alto valor para o churn rate é o que não desejamos.\n"
      ]
    },
    {
      "cell_type": "markdown",
      "metadata": {
        "id": "ZiSQnwD86sbJ"
      },
      "source": [
        "## Aquisição dos dados\n",
        "\n",
        "Os dados utilizados neste projeto foram originalmente disponibilizados na [plataforma de ensino da IBM Developer](https://developer.ibm.com/technologies/data-science/patterns/predict-customer-churn-using-watson-studio-and-jupyter-notebooks/#), e tratam de um problema típico de uma companhia de telecomunicações. O *dataset* completo pode ser encontrado [neste link](https://raw.githubusercontent.com/carlosfab/dsnp2/master/datasets/WA_Fn-UseC_-Telco-Customer-Churn.csv).\n",
        "\n",
        "Apesar de não haver informações explícitas disponíves, os nomes das colunas permitem um entendimento a respeito do problema."
      ]
    },
    {
      "cell_type": "code",
      "metadata": {
        "id": "lnORnFOL1seQ"
      },
      "source": [
        "# Instalar Pandas Profiling\n",
        "!pip install scikit-plot -q\n",
        "!pip install imbalanced-learn -q"
      ],
      "execution_count": 1,
      "outputs": []
    },
    {
      "cell_type": "code",
      "metadata": {
        "id": "nLkldhfC7-0D",
        "outputId": "a104e943-2611-4e57-f016-54f11fd09960",
        "colab": {
          "base_uri": "https://localhost:8080/"
        }
      },
      "source": [
        "# Importação das ferramentas utilizadas\n",
        "import pandas as pd\n",
        "import numpy as np\n",
        "import matplotlib.pyplot as plt\n",
        "import seaborn as sns\n",
        "\n",
        "from imblearn.under_sampling import RandomUnderSampler\n",
        "from sklearn.metrics import roc_auc_score, accuracy_score, f1_score, confusion_matrix, classification_report\n",
        "from scikitplot.metrics import plot_confusion_matrix, plot_roc\n",
        "from sklearn.preprocessing import StandardScaler, LabelEncoder\n",
        "from sklearn.pipeline import make_pipeline\n",
        "from sklearn.model_selection import train_test_split\n",
        "from sklearn.model_selection import cross_val_score\n",
        "from sklearn.model_selection import StratifiedKFold\n",
        "from sklearn.model_selection import GridSearchCV\n",
        "from sklearn.svm import SVC\n",
        "from lightgbm import LGBMClassifier\n",
        "from sklearn.linear_model import SGDClassifier\n",
        "from sklearn.tree import DecisionTreeClassifier\n",
        "from sklearn.linear_model import LogisticRegression\n",
        "from xgboost import XGBClassifier\n",
        "from sklearn.ensemble import RandomForestClassifier"
      ],
      "execution_count": 2,
      "outputs": [
        {
          "output_type": "stream",
          "text": [
            "/usr/local/lib/python3.7/dist-packages/sklearn/externals/six.py:31: FutureWarning: The module is deprecated in version 0.21 and will be removed in version 0.23 since we've dropped support for Python 2.7. Please rely on the official version of six (https://pypi.org/project/six/).\n",
            "  \"(https://pypi.org/project/six/).\", FutureWarning)\n",
            "/usr/local/lib/python3.7/dist-packages/sklearn/utils/deprecation.py:144: FutureWarning: The sklearn.neighbors.base module is  deprecated in version 0.22 and will be removed in version 0.24. The corresponding classes / functions should instead be imported from sklearn.neighbors. Anything that cannot be imported from sklearn.neighbors is now part of the private API.\n",
            "  warnings.warn(message, FutureWarning)\n"
          ],
          "name": "stderr"
        }
      ]
    },
    {
      "cell_type": "code",
      "metadata": {
        "colab": {
          "base_uri": "https://localhost:8080/",
          "height": 309
        },
        "id": "keyTL4sL-0HT",
        "outputId": "a70202c9-742a-4780-9561-d8e28701f4fa"
      },
      "source": [
        "# importar os dados\n",
        "DATA_PATH =  \"https://raw.githubusercontent.com/carlosfab/dsnp2/master/datasets/WA_Fn-UseC_-Telco-Customer-Churn.csv\"\n",
        "df = pd.read_csv(DATA_PATH)\n",
        "\n",
        "# Visualizando as 5 primeiras entradas\n",
        "df.head()"
      ],
      "execution_count": 3,
      "outputs": [
        {
          "output_type": "execute_result",
          "data": {
            "text/html": [
              "<div>\n",
              "<style scoped>\n",
              "    .dataframe tbody tr th:only-of-type {\n",
              "        vertical-align: middle;\n",
              "    }\n",
              "\n",
              "    .dataframe tbody tr th {\n",
              "        vertical-align: top;\n",
              "    }\n",
              "\n",
              "    .dataframe thead th {\n",
              "        text-align: right;\n",
              "    }\n",
              "</style>\n",
              "<table border=\"1\" class=\"dataframe\">\n",
              "  <thead>\n",
              "    <tr style=\"text-align: right;\">\n",
              "      <th></th>\n",
              "      <th>customerID</th>\n",
              "      <th>gender</th>\n",
              "      <th>SeniorCitizen</th>\n",
              "      <th>Partner</th>\n",
              "      <th>Dependents</th>\n",
              "      <th>tenure</th>\n",
              "      <th>PhoneService</th>\n",
              "      <th>MultipleLines</th>\n",
              "      <th>InternetService</th>\n",
              "      <th>OnlineSecurity</th>\n",
              "      <th>OnlineBackup</th>\n",
              "      <th>DeviceProtection</th>\n",
              "      <th>TechSupport</th>\n",
              "      <th>StreamingTV</th>\n",
              "      <th>StreamingMovies</th>\n",
              "      <th>Contract</th>\n",
              "      <th>PaperlessBilling</th>\n",
              "      <th>PaymentMethod</th>\n",
              "      <th>MonthlyCharges</th>\n",
              "      <th>TotalCharges</th>\n",
              "      <th>Churn</th>\n",
              "    </tr>\n",
              "  </thead>\n",
              "  <tbody>\n",
              "    <tr>\n",
              "      <th>0</th>\n",
              "      <td>7590-VHVEG</td>\n",
              "      <td>Female</td>\n",
              "      <td>0</td>\n",
              "      <td>Yes</td>\n",
              "      <td>No</td>\n",
              "      <td>1</td>\n",
              "      <td>No</td>\n",
              "      <td>No phone service</td>\n",
              "      <td>DSL</td>\n",
              "      <td>No</td>\n",
              "      <td>Yes</td>\n",
              "      <td>No</td>\n",
              "      <td>No</td>\n",
              "      <td>No</td>\n",
              "      <td>No</td>\n",
              "      <td>Month-to-month</td>\n",
              "      <td>Yes</td>\n",
              "      <td>Electronic check</td>\n",
              "      <td>29.85</td>\n",
              "      <td>29.85</td>\n",
              "      <td>No</td>\n",
              "    </tr>\n",
              "    <tr>\n",
              "      <th>1</th>\n",
              "      <td>5575-GNVDE</td>\n",
              "      <td>Male</td>\n",
              "      <td>0</td>\n",
              "      <td>No</td>\n",
              "      <td>No</td>\n",
              "      <td>34</td>\n",
              "      <td>Yes</td>\n",
              "      <td>No</td>\n",
              "      <td>DSL</td>\n",
              "      <td>Yes</td>\n",
              "      <td>No</td>\n",
              "      <td>Yes</td>\n",
              "      <td>No</td>\n",
              "      <td>No</td>\n",
              "      <td>No</td>\n",
              "      <td>One year</td>\n",
              "      <td>No</td>\n",
              "      <td>Mailed check</td>\n",
              "      <td>56.95</td>\n",
              "      <td>1889.5</td>\n",
              "      <td>No</td>\n",
              "    </tr>\n",
              "    <tr>\n",
              "      <th>2</th>\n",
              "      <td>3668-QPYBK</td>\n",
              "      <td>Male</td>\n",
              "      <td>0</td>\n",
              "      <td>No</td>\n",
              "      <td>No</td>\n",
              "      <td>2</td>\n",
              "      <td>Yes</td>\n",
              "      <td>No</td>\n",
              "      <td>DSL</td>\n",
              "      <td>Yes</td>\n",
              "      <td>Yes</td>\n",
              "      <td>No</td>\n",
              "      <td>No</td>\n",
              "      <td>No</td>\n",
              "      <td>No</td>\n",
              "      <td>Month-to-month</td>\n",
              "      <td>Yes</td>\n",
              "      <td>Mailed check</td>\n",
              "      <td>53.85</td>\n",
              "      <td>108.15</td>\n",
              "      <td>Yes</td>\n",
              "    </tr>\n",
              "    <tr>\n",
              "      <th>3</th>\n",
              "      <td>7795-CFOCW</td>\n",
              "      <td>Male</td>\n",
              "      <td>0</td>\n",
              "      <td>No</td>\n",
              "      <td>No</td>\n",
              "      <td>45</td>\n",
              "      <td>No</td>\n",
              "      <td>No phone service</td>\n",
              "      <td>DSL</td>\n",
              "      <td>Yes</td>\n",
              "      <td>No</td>\n",
              "      <td>Yes</td>\n",
              "      <td>Yes</td>\n",
              "      <td>No</td>\n",
              "      <td>No</td>\n",
              "      <td>One year</td>\n",
              "      <td>No</td>\n",
              "      <td>Bank transfer (automatic)</td>\n",
              "      <td>42.30</td>\n",
              "      <td>1840.75</td>\n",
              "      <td>No</td>\n",
              "    </tr>\n",
              "    <tr>\n",
              "      <th>4</th>\n",
              "      <td>9237-HQITU</td>\n",
              "      <td>Female</td>\n",
              "      <td>0</td>\n",
              "      <td>No</td>\n",
              "      <td>No</td>\n",
              "      <td>2</td>\n",
              "      <td>Yes</td>\n",
              "      <td>No</td>\n",
              "      <td>Fiber optic</td>\n",
              "      <td>No</td>\n",
              "      <td>No</td>\n",
              "      <td>No</td>\n",
              "      <td>No</td>\n",
              "      <td>No</td>\n",
              "      <td>No</td>\n",
              "      <td>Month-to-month</td>\n",
              "      <td>Yes</td>\n",
              "      <td>Electronic check</td>\n",
              "      <td>70.70</td>\n",
              "      <td>151.65</td>\n",
              "      <td>Yes</td>\n",
              "    </tr>\n",
              "  </tbody>\n",
              "</table>\n",
              "</div>"
            ],
            "text/plain": [
              "   customerID  gender  SeniorCitizen  ... MonthlyCharges TotalCharges  Churn\n",
              "0  7590-VHVEG  Female              0  ...          29.85        29.85     No\n",
              "1  5575-GNVDE    Male              0  ...          56.95       1889.5     No\n",
              "2  3668-QPYBK    Male              0  ...          53.85       108.15    Yes\n",
              "3  7795-CFOCW    Male              0  ...          42.30      1840.75     No\n",
              "4  9237-HQITU  Female              0  ...          70.70       151.65    Yes\n",
              "\n",
              "[5 rows x 21 columns]"
            ]
          },
          "metadata": {
            "tags": []
          },
          "execution_count": 3
        }
      ]
    },
    {
      "cell_type": "code",
      "metadata": {
        "colab": {
          "base_uri": "https://localhost:8080/"
        },
        "id": "XC10CQy5FAAP",
        "outputId": "4305e69f-43ca-438e-df7f-12690957b2e3"
      },
      "source": [
        "# Visualizando o o tamanho do dataset\n",
        "print(\"Linhas:\\t\\t{}\".format(df.shape[0]))\n",
        "print(\"Colunas:\\t{}\".format(df.shape[1]))"
      ],
      "execution_count": 4,
      "outputs": [
        {
          "output_type": "stream",
          "text": [
            "Linhas:\t\t7043\n",
            "Colunas:\t21\n"
          ],
          "name": "stdout"
        }
      ]
    },
    {
      "cell_type": "markdown",
      "metadata": {
        "id": "ArW-LFXPIhas"
      },
      "source": [
        "# Análise Exploratória dos Dados\n",
        "Vamos verificar a integridade dos dados."
      ]
    },
    {
      "cell_type": "code",
      "metadata": {
        "colab": {
          "base_uri": "https://localhost:8080/"
        },
        "id": "7fPftsMrIbga",
        "outputId": "5df72e05-e2e8-4200-e965-5b45c03fe7a2"
      },
      "source": [
        "print(df.isnull().sum() / df.shape[0])"
      ],
      "execution_count": null,
      "outputs": [
        {
          "output_type": "stream",
          "text": [
            "customerID          0.0\n",
            "gender              0.0\n",
            "SeniorCitizen       0.0\n",
            "Partner             0.0\n",
            "Dependents          0.0\n",
            "tenure              0.0\n",
            "PhoneService        0.0\n",
            "MultipleLines       0.0\n",
            "InternetService     0.0\n",
            "OnlineSecurity      0.0\n",
            "OnlineBackup        0.0\n",
            "DeviceProtection    0.0\n",
            "TechSupport         0.0\n",
            "StreamingTV         0.0\n",
            "StreamingMovies     0.0\n",
            "Contract            0.0\n",
            "PaperlessBilling    0.0\n",
            "PaymentMethod       0.0\n",
            "MonthlyCharges      0.0\n",
            "TotalCharges        0.0\n",
            "Churn               0.0\n",
            "dtype: float64\n"
          ],
          "name": "stdout"
        }
      ]
    },
    {
      "cell_type": "code",
      "metadata": {
        "colab": {
          "base_uri": "https://localhost:8080/"
        },
        "id": "Jld70PrY-M1Q",
        "outputId": "8e41a520-0dcb-40c5-f572-bdf5262834ae"
      },
      "source": [
        "# Nomes das features\n",
        "print(\"\\nNomes das features:\\n{}\\n\".format(df.columns.values))"
      ],
      "execution_count": null,
      "outputs": [
        {
          "output_type": "stream",
          "text": [
            "\n",
            "Nomes das features:\n",
            "['customerID' 'gender' 'SeniorCitizen' 'Partner' 'Dependents' 'tenure'\n",
            " 'PhoneService' 'MultipleLines' 'InternetService' 'OnlineSecurity'\n",
            " 'OnlineBackup' 'DeviceProtection' 'TechSupport' 'StreamingTV'\n",
            " 'StreamingMovies' 'Contract' 'PaperlessBilling' 'PaymentMethod'\n",
            " 'MonthlyCharges' 'TotalCharges' 'Churn']\n",
            "\n"
          ],
          "name": "stdout"
        }
      ]
    },
    {
      "cell_type": "code",
      "metadata": {
        "colab": {
          "base_uri": "https://localhost:8080/"
        },
        "id": "W48WBJRj_KZC",
        "outputId": "5c7cf067-0328-4212-ef90-7ddf1e88b8ab"
      },
      "source": [
        "# Tipos de variáveis por coluna\n",
        "print(\"TIpo de variáveis por coluna\\n{}\".format(df.dtypes))"
      ],
      "execution_count": null,
      "outputs": [
        {
          "output_type": "stream",
          "text": [
            "TIpo de variáveis por coluna\n",
            "customerID           object\n",
            "gender               object\n",
            "SeniorCitizen         int64\n",
            "Partner              object\n",
            "Dependents           object\n",
            "tenure                int64\n",
            "PhoneService         object\n",
            "MultipleLines        object\n",
            "InternetService      object\n",
            "OnlineSecurity       object\n",
            "OnlineBackup         object\n",
            "DeviceProtection     object\n",
            "TechSupport          object\n",
            "StreamingTV          object\n",
            "StreamingMovies      object\n",
            "Contract             object\n",
            "PaperlessBilling     object\n",
            "PaymentMethod        object\n",
            "MonthlyCharges      float64\n",
            "TotalCharges         object\n",
            "Churn                object\n",
            "dtype: object\n"
          ],
          "name": "stdout"
        }
      ]
    },
    {
      "cell_type": "code",
      "metadata": {
        "colab": {
          "base_uri": "https://localhost:8080/"
        },
        "id": "SWjnnr_d_ep2",
        "outputId": "8cfbffc4-59ec-4664-b36b-395b38893a2b"
      },
      "source": [
        "# Valores únicos por coluna\n",
        "print(\"Valores únicos (por coluna):\\n{}\".format(df.nunique()))"
      ],
      "execution_count": null,
      "outputs": [
        {
          "output_type": "stream",
          "text": [
            "Valores únicos (por coluna):\n",
            "customerID          7043\n",
            "gender                 2\n",
            "SeniorCitizen          2\n",
            "Partner                2\n",
            "Dependents             2\n",
            "tenure                73\n",
            "PhoneService           2\n",
            "MultipleLines          3\n",
            "InternetService        3\n",
            "OnlineSecurity         3\n",
            "OnlineBackup           3\n",
            "DeviceProtection       3\n",
            "TechSupport            3\n",
            "StreamingTV            3\n",
            "StreamingMovies        3\n",
            "Contract               3\n",
            "PaperlessBilling       2\n",
            "PaymentMethod          4\n",
            "MonthlyCharges      1585\n",
            "TotalCharges        6531\n",
            "Churn                  2\n",
            "dtype: int64\n"
          ],
          "name": "stdout"
        }
      ]
    },
    {
      "cell_type": "markdown",
      "metadata": {
        "id": "eb0tYbwtAWDA"
      },
      "source": [
        "Podemos ver que os dados não possui valores ausentes, mas temos que converter a coluna `TotalChanges` para float para então prosseguirmos com as análises."
      ]
    },
    {
      "cell_type": "code",
      "metadata": {
        "id": "kfYNXLYSNS7W",
        "colab": {
          "base_uri": "https://localhost:8080/"
        },
        "outputId": "2aaef938-3783-40e3-99fd-6355b09f737d"
      },
      "source": [
        "# Convertendo coluna TotalChanges para float\n",
        "def converter_str_float(entrada):\n",
        "  try:\n",
        "      return float(entrada)\n",
        "  except ValueError:\n",
        "      return np.nan\n",
        "\n",
        "# Criar cópia do dataframe\n",
        "df_clean = df.copy()\n",
        "\n",
        "# removendo a coluna costumerID\n",
        "df_clean.drop(\"customerID\", axis=1, inplace=True)\n",
        "\n",
        "# Convertendo as strings de TotalChanges para float\n",
        "df_clean[\"TotalCharges\"] = df_clean[\"TotalCharges\"].apply(converter_str_float)\n",
        "\n",
        "# Verificar entradas ausentes\n",
        "print(\"Dados ausentes em 'TotalCharges' (antes):\\t{}\\n\".format(df_clean[\"TotalCharges\"].isnull().sum()))\n",
        "\n",
        "# Substituir ps dados ausentes pelo valor da mediana\n",
        "TotalChargesMedian = df_clean.TotalCharges.median()\n",
        "df_clean[\"TotalCharges\"].fillna(TotalChargesMedian, inplace=True)"
      ],
      "execution_count": 5,
      "outputs": [
        {
          "output_type": "stream",
          "text": [
            "Dados ausentes em 'TotalCharges' (antes):\t11\n",
            "\n"
          ],
          "name": "stdout"
        }
      ]
    },
    {
      "cell_type": "markdown",
      "metadata": {
        "id": "ZZqOFuigPqY2"
      },
      "source": [
        "Mesmo que o dataset seja composto por variáveis binárias ou categóricas, é possível ver abaixo, que não a indícios da presença de outliers."
      ]
    },
    {
      "cell_type": "code",
      "metadata": {
        "id": "Am_2rqKBPkHJ",
        "colab": {
          "base_uri": "https://localhost:8080/",
          "height": 294
        },
        "outputId": "22ededf4-e337-4bcb-f3fd-f8ed08e9a68c"
      },
      "source": [
        "df_clean.describe()"
      ],
      "execution_count": 6,
      "outputs": [
        {
          "output_type": "execute_result",
          "data": {
            "text/html": [
              "<div>\n",
              "<style scoped>\n",
              "    .dataframe tbody tr th:only-of-type {\n",
              "        vertical-align: middle;\n",
              "    }\n",
              "\n",
              "    .dataframe tbody tr th {\n",
              "        vertical-align: top;\n",
              "    }\n",
              "\n",
              "    .dataframe thead th {\n",
              "        text-align: right;\n",
              "    }\n",
              "</style>\n",
              "<table border=\"1\" class=\"dataframe\">\n",
              "  <thead>\n",
              "    <tr style=\"text-align: right;\">\n",
              "      <th></th>\n",
              "      <th>SeniorCitizen</th>\n",
              "      <th>tenure</th>\n",
              "      <th>MonthlyCharges</th>\n",
              "      <th>TotalCharges</th>\n",
              "    </tr>\n",
              "  </thead>\n",
              "  <tbody>\n",
              "    <tr>\n",
              "      <th>count</th>\n",
              "      <td>7043.000000</td>\n",
              "      <td>7043.000000</td>\n",
              "      <td>7043.000000</td>\n",
              "      <td>7043.000000</td>\n",
              "    </tr>\n",
              "    <tr>\n",
              "      <th>mean</th>\n",
              "      <td>0.162147</td>\n",
              "      <td>32.371149</td>\n",
              "      <td>64.761692</td>\n",
              "      <td>2281.916928</td>\n",
              "    </tr>\n",
              "    <tr>\n",
              "      <th>std</th>\n",
              "      <td>0.368612</td>\n",
              "      <td>24.559481</td>\n",
              "      <td>30.090047</td>\n",
              "      <td>2265.270398</td>\n",
              "    </tr>\n",
              "    <tr>\n",
              "      <th>min</th>\n",
              "      <td>0.000000</td>\n",
              "      <td>0.000000</td>\n",
              "      <td>18.250000</td>\n",
              "      <td>18.800000</td>\n",
              "    </tr>\n",
              "    <tr>\n",
              "      <th>25%</th>\n",
              "      <td>0.000000</td>\n",
              "      <td>9.000000</td>\n",
              "      <td>35.500000</td>\n",
              "      <td>402.225000</td>\n",
              "    </tr>\n",
              "    <tr>\n",
              "      <th>50%</th>\n",
              "      <td>0.000000</td>\n",
              "      <td>29.000000</td>\n",
              "      <td>70.350000</td>\n",
              "      <td>1397.475000</td>\n",
              "    </tr>\n",
              "    <tr>\n",
              "      <th>75%</th>\n",
              "      <td>0.000000</td>\n",
              "      <td>55.000000</td>\n",
              "      <td>89.850000</td>\n",
              "      <td>3786.600000</td>\n",
              "    </tr>\n",
              "    <tr>\n",
              "      <th>max</th>\n",
              "      <td>1.000000</td>\n",
              "      <td>72.000000</td>\n",
              "      <td>118.750000</td>\n",
              "      <td>8684.800000</td>\n",
              "    </tr>\n",
              "  </tbody>\n",
              "</table>\n",
              "</div>"
            ],
            "text/plain": [
              "       SeniorCitizen       tenure  MonthlyCharges  TotalCharges\n",
              "count    7043.000000  7043.000000     7043.000000   7043.000000\n",
              "mean        0.162147    32.371149       64.761692   2281.916928\n",
              "std         0.368612    24.559481       30.090047   2265.270398\n",
              "min         0.000000     0.000000       18.250000     18.800000\n",
              "25%         0.000000     9.000000       35.500000    402.225000\n",
              "50%         0.000000    29.000000       70.350000   1397.475000\n",
              "75%         0.000000    55.000000       89.850000   3786.600000\n",
              "max         1.000000    72.000000      118.750000   8684.800000"
            ]
          },
          "metadata": {
            "tags": []
          },
          "execution_count": 6
        }
      ]
    },
    {
      "cell_type": "code",
      "metadata": {
        "colab": {
          "base_uri": "https://localhost:8080/"
        },
        "id": "gyWJ8Ko2Dsii",
        "outputId": "a328fa24-f605-4799-b373-1a2b39a1fac4"
      },
      "source": [
        "# Vamos checar se existem valores nulos\n",
        "df_clean.isna().sum()"
      ],
      "execution_count": 7,
      "outputs": [
        {
          "output_type": "execute_result",
          "data": {
            "text/plain": [
              "gender              0\n",
              "SeniorCitizen       0\n",
              "Partner             0\n",
              "Dependents          0\n",
              "tenure              0\n",
              "PhoneService        0\n",
              "MultipleLines       0\n",
              "InternetService     0\n",
              "OnlineSecurity      0\n",
              "OnlineBackup        0\n",
              "DeviceProtection    0\n",
              "TechSupport         0\n",
              "StreamingTV         0\n",
              "StreamingMovies     0\n",
              "Contract            0\n",
              "PaperlessBilling    0\n",
              "PaymentMethod       0\n",
              "MonthlyCharges      0\n",
              "TotalCharges        0\n",
              "Churn               0\n",
              "dtype: int64"
            ]
          },
          "metadata": {
            "tags": []
          },
          "execution_count": 7
        }
      ]
    },
    {
      "cell_type": "code",
      "metadata": {
        "id": "pXzZp9d4HcBz",
        "colab": {
          "base_uri": "https://localhost:8080/"
        },
        "outputId": "330d4956-de1b-44dd-c041-30cdd8ecd9a2"
      },
      "source": [
        "df_clean.nunique().sort_values()"
      ],
      "execution_count": 8,
      "outputs": [
        {
          "output_type": "execute_result",
          "data": {
            "text/plain": [
              "gender                 2\n",
              "PaperlessBilling       2\n",
              "PhoneService           2\n",
              "Churn                  2\n",
              "Partner                2\n",
              "SeniorCitizen          2\n",
              "Dependents             2\n",
              "MultipleLines          3\n",
              "InternetService        3\n",
              "OnlineSecurity         3\n",
              "DeviceProtection       3\n",
              "TechSupport            3\n",
              "StreamingTV            3\n",
              "StreamingMovies        3\n",
              "Contract               3\n",
              "OnlineBackup           3\n",
              "PaymentMethod          4\n",
              "tenure                73\n",
              "MonthlyCharges      1585\n",
              "TotalCharges        6531\n",
              "dtype: int64"
            ]
          },
          "metadata": {
            "tags": []
          },
          "execution_count": 8
        }
      ]
    },
    {
      "cell_type": "code",
      "metadata": {
        "id": "2NFbuIvb36c9",
        "colab": {
          "base_uri": "https://localhost:8080/"
        },
        "outputId": "36113438-af11-4dd8-8598-5a3f37b843cd"
      },
      "source": [
        "cols = ['Churn', 'gender', 'SeniorCitizen', 'Partner', 'Dependents', 'PaperlessBilling', \n",
        "        'PhoneService','Contract', 'StreamingMovies','StreamingTV', 'TechSupport', 'OnlineBackup', \n",
        "        'OnlineSecurity', 'InternetService', 'MultipleLines', 'DeviceProtection', 'PaymentMethod']\n",
        "for col in cols:\n",
        "  print(col, ':', df_clean[col].unique())\n",
        "      "
      ],
      "execution_count": null,
      "outputs": [
        {
          "output_type": "stream",
          "text": [
            "Churn : ['No' 'Yes']\n",
            "gender : ['Female' 'Male']\n",
            "SeniorCitizen : [0 1]\n",
            "Partner : ['Yes' 'No']\n",
            "Dependents : ['No' 'Yes']\n",
            "PaperlessBilling : ['Yes' 'No']\n",
            "PhoneService : ['No' 'Yes']\n",
            "Contract : ['Month-to-month' 'One year' 'Two year']\n",
            "StreamingMovies : ['No' 'Yes' 'No internet service']\n",
            "StreamingTV : ['No' 'Yes' 'No internet service']\n",
            "TechSupport : ['No' 'Yes' 'No internet service']\n",
            "OnlineBackup : ['Yes' 'No' 'No internet service']\n",
            "OnlineSecurity : ['No' 'Yes' 'No internet service']\n",
            "InternetService : ['DSL' 'Fiber optic' 'No']\n",
            "MultipleLines : ['No phone service' 'No' 'Yes']\n",
            "DeviceProtection : ['No' 'Yes' 'No internet service']\n",
            "PaymentMethod : ['Electronic check' 'Mailed check' 'Bank transfer (automatic)'\n",
            " 'Credit card (automatic)']\n"
          ],
          "name": "stdout"
        }
      ]
    },
    {
      "cell_type": "markdown",
      "metadata": {
        "id": "N58tufAZ6bHS"
      },
      "source": [
        "Acima podemos ver que as variáveis são divididas em grupos como:\n",
        "Sim/Não, Feminino/Masculino, Por ano / Por mês, Dependente sim/não...\n",
        "Com essas informações podemos ter uma visão melhor de como os serviços sçao oferecidos e até como são as formas de pagamento.\n"
      ]
    },
    {
      "cell_type": "markdown",
      "metadata": {
        "id": "igsy2xkuKvQM"
      },
      "source": [
        "É possível identificar que a classe `No` ocorre com frequência muito superior à classe `Yes`. Isso será considerado na etapa de construção do modelo de machine learning."
      ]
    },
    {
      "cell_type": "markdown",
      "metadata": {
        "id": "321jVWyzQXhT"
      },
      "source": [
        "Analisando o boxplot para as colunas `MonthlyCharges` e `TotalCharges`, percebemos que sua distribuição não acuspu nenhum plot fora dos limites superior e inferior"
      ]
    },
    {
      "cell_type": "code",
      "metadata": {
        "id": "glwR81wiQTUs",
        "colab": {
          "base_uri": "https://localhost:8080/",
          "height": 387
        },
        "outputId": "26dadb1a-cdbe-4daa-f22e-a55bd6beeb03"
      },
      "source": [
        "fig, ax = plt.subplots(nrows=1, ncols=2, figsize=(12, 4))\n",
        "sns.boxplot(df_clean['MonthlyCharges'], ax=ax[0])\n",
        "sns.boxplot(df_clean['TotalCharges'], ax=ax[1])\n",
        "plt.tight_layout()"
      ],
      "execution_count": 9,
      "outputs": [
        {
          "output_type": "stream",
          "text": [
            "/usr/local/lib/python3.7/dist-packages/seaborn/_decorators.py:43: FutureWarning: Pass the following variable as a keyword arg: x. From version 0.12, the only valid positional argument will be `data`, and passing other arguments without an explicit keyword will result in an error or misinterpretation.\n",
            "  FutureWarning\n",
            "/usr/local/lib/python3.7/dist-packages/seaborn/_decorators.py:43: FutureWarning: Pass the following variable as a keyword arg: x. From version 0.12, the only valid positional argument will be `data`, and passing other arguments without an explicit keyword will result in an error or misinterpretation.\n",
            "  FutureWarning\n"
          ],
          "name": "stderr"
        },
        {
          "output_type": "display_data",
          "data": {
            "image/png": "[encoded data removed]",
            "text/plain": [
              "<Figure size 864x288 with 2 Axes>"
            ]
          },
          "metadata": {
            "tags": [],
            "needs_background": "light"
          }
        }
      ]
    },
    {
      "cell_type": "markdown",
      "metadata": {
        "id": "Z_QwJGrJAFet"
      },
      "source": [
        "Vamos analisar a previsão de churn de alguma variáveis"
      ]
    },
    {
      "cell_type": "markdown",
      "metadata": {
        "id": "qUw8S_1URUF_"
      },
      "source": [
        "Para identificar se os nossos dados podem estar com açgum tipo de bias(viés), vamos verificar a contagem de valores para `Male` e `Female`"
      ]
    },
    {
      "cell_type": "code",
      "metadata": {
        "id": "Xi9_SDGjRmN3",
        "colab": {
          "base_uri": "https://localhost:8080/",
          "height": 351
        },
        "outputId": "39fd364e-76f5-48c0-e795-684c954c1f24"
      },
      "source": [
        "sns.countplot(df.gender)"
      ],
      "execution_count": 10,
      "outputs": [
        {
          "output_type": "stream",
          "text": [
            "/usr/local/lib/python3.7/dist-packages/seaborn/_decorators.py:43: FutureWarning: Pass the following variable as a keyword arg: x. From version 0.12, the only valid positional argument will be `data`, and passing other arguments without an explicit keyword will result in an error or misinterpretation.\n",
            "  FutureWarning\n"
          ],
          "name": "stderr"
        },
        {
          "output_type": "execute_result",
          "data": {
            "text/plain": [
              "<matplotlib.axes._subplots.AxesSubplot at 0x7f6592f028d0>"
            ]
          },
          "metadata": {
            "tags": []
          },
          "execution_count": 10
        },
        {
          "output_type": "display_data",
          "data": {
            "image/png": "[encoded data removed]",
            "text/plain": [
              "<Figure size 432x288 with 1 Axes>"
            ]
          },
          "metadata": {
            "tags": [],
            "needs_background": "light"
          }
        }
      ]
    },
    {
      "cell_type": "markdown",
      "metadata": {
        "id": "hZiIzXEhR2Qz"
      },
      "source": [
        "É possível identificar que a classe `No` ocorre com frequência muito superior à classe `Yes`. Isso será considerado na etapa de construção do modelo de machine learning"
      ]
    },
    {
      "cell_type": "code",
      "metadata": {
        "id": "3xsFLESoRx-1",
        "colab": {
          "base_uri": "https://localhost:8080/",
          "height": 351
        },
        "outputId": "8ec86d39-69ca-45a1-d4c8-b6d12fe71c4a"
      },
      "source": [
        "sns.countplot(df_clean.Churn)"
      ],
      "execution_count": 11,
      "outputs": [
        {
          "output_type": "stream",
          "text": [
            "/usr/local/lib/python3.7/dist-packages/seaborn/_decorators.py:43: FutureWarning: Pass the following variable as a keyword arg: x. From version 0.12, the only valid positional argument will be `data`, and passing other arguments without an explicit keyword will result in an error or misinterpretation.\n",
            "  FutureWarning\n"
          ],
          "name": "stderr"
        },
        {
          "output_type": "execute_result",
          "data": {
            "text/plain": [
              "<matplotlib.axes._subplots.AxesSubplot at 0x7f6592ef5150>"
            ]
          },
          "metadata": {
            "tags": []
          },
          "execution_count": 11
        },
        {
          "output_type": "display_data",
          "data": {
            "image/png": "[encoded data removed]",
            "text/plain": [
              "<Figure size 432x288 with 1 Axes>"
            ]
          },
          "metadata": {
            "tags": [],
            "needs_background": "light"
          }
        }
      ]
    },
    {
      "cell_type": "code",
      "metadata": {
        "id": "Rn0tMGwN80um",
        "colab": {
          "base_uri": "https://localhost:8080/",
          "height": 744
        },
        "outputId": "1496918c-bbfa-423d-cc13-2724b641874c"
      },
      "source": [
        "fig, ax = plt.subplots(nrows=2, ncols=2, figsize=(13,8))\n",
        "sns.countplot('MultipleLines', hue='Churn',data=df_clean,color='darkblue',ax=ax[0,0])\n",
        "sns.countplot('PhoneService', hue='Churn',data=df_clean,color='firebrick',ax=ax[0,1])\n",
        "sns.countplot('InternetService', hue='Churn',data=df_clean,color='goldenrod',ax=ax[1,0])\n",
        "sns.countplot('OnlineSecurity', hue='Churn',data=df_clean,color='darkslategray', ax=ax[1,1])\n",
        "plt.tight_layout();"
      ],
      "execution_count": 12,
      "outputs": [
        {
          "output_type": "stream",
          "text": [
            "/usr/local/lib/python3.7/dist-packages/seaborn/_decorators.py:43: FutureWarning: Pass the following variable as a keyword arg: x. From version 0.12, the only valid positional argument will be `data`, and passing other arguments without an explicit keyword will result in an error or misinterpretation.\n",
            "  FutureWarning\n",
            "/usr/local/lib/python3.7/dist-packages/seaborn/_decorators.py:43: FutureWarning: Pass the following variable as a keyword arg: x. From version 0.12, the only valid positional argument will be `data`, and passing other arguments without an explicit keyword will result in an error or misinterpretation.\n",
            "  FutureWarning\n",
            "/usr/local/lib/python3.7/dist-packages/seaborn/_decorators.py:43: FutureWarning: Pass the following variable as a keyword arg: x. From version 0.12, the only valid positional argument will be `data`, and passing other arguments without an explicit keyword will result in an error or misinterpretation.\n",
            "  FutureWarning\n",
            "/usr/local/lib/python3.7/dist-packages/seaborn/_decorators.py:43: FutureWarning: Pass the following variable as a keyword arg: x. From version 0.12, the only valid positional argument will be `data`, and passing other arguments without an explicit keyword will result in an error or misinterpretation.\n",
            "  FutureWarning\n"
          ],
          "name": "stderr"
        },
        {
          "output_type": "display_data",
          "data": {
            "image/png": "[encoded data removed]",
            "text/plain": [
              "<Figure size 936x576 with 4 Axes>"
            ]
          },
          "metadata": {
            "tags": [],
            "needs_background": "light"
          }
        }
      ]
    },
    {
      "cell_type": "markdown",
      "metadata": {
        "id": "VhTP1GD7HQZX"
      },
      "source": [
        "* Percebemos que pessoas com fibra ótica são mais propensas a mudarem de serviços do que aquelas que possuem DSL. \n",
        "* Pessoas que possuem algum tipo de plano de celular estão mais satisfeitas com aquelas que não tem, vimos que tem alguma que desistem do plano contratado, mas deve ser por conta de algumas promoções que a companhia não disponibiliza com isso ocorre a desistencia\n",
        "* Alguns possuem multiplos planos podemos ver que grande parte também acabam deixando por conta de melhorias em sua cont."
      ]
    },
    {
      "cell_type": "markdown",
      "metadata": {
        "id": "jfWysKO_K2q0"
      },
      "source": [
        "#Preparar os Dados\n",
        "\n",
        "Nesta estaoa irei realizar um pré-processamento básico, com afinalidade de construir apenas um modelo base.\n",
        "As features que continham 2 labels únicos, serão processadas usando o `LabelEncoder`, isso inclui a variável alvo `Churn`.\n",
        "Depois iremos separar as variáveis numéricas das categóricas. As categóricas serão transformadas em variáveis dummy, para permitir a sua utilização em todos os modelos."
      ]
    },
    {
      "cell_type": "code",
      "metadata": {
        "id": "0ixLRHgADk9C",
        "colab": {
          "base_uri": "https://localhost:8080/",
          "height": 257
        },
        "outputId": "85fdb2b8-583e-4414-c698-2b682d59c44f"
      },
      "source": [
        "# Pré processar as variáveis\n",
        "binary_var = df_clean.nunique()[df_clean.nunique() == 2].keys().tolist()\n",
        "num_var = [col for col in df_clean.select_dtypes(['int','float']).columns.tolist() if col not in binary_var]\n",
        "cat_var = [col for col in df_clean.columns.tolist() if col not in binary_var + num_var]\n",
        "\n",
        "# Criar uma cópia do dataframe\n",
        "df_proc = df_clean.copy()\n",
        "\n",
        "#Label Encoding para as variáveis Binárias\n",
        "le = LabelEncoder()\n",
        "for i in binary_var:\n",
        "    df_proc[i] = le.fit_transform(df_proc[i])\n",
        "\n",
        "# Encoding para colunas categóricas com múltiplas classes\n",
        "df_proc = pd.get_dummies(df_proc, columns=cat_var)\n",
        "\n",
        "# ver as 5 primeiras entradas do novo dataframe\n",
        "df_proc.head()"
      ],
      "execution_count": 13,
      "outputs": [
        {
          "output_type": "execute_result",
          "data": {
            "text/html": [
              "<div>\n",
              "<style scoped>\n",
              "    .dataframe tbody tr th:only-of-type {\n",
              "        vertical-align: middle;\n",
              "    }\n",
              "\n",
              "    .dataframe tbody tr th {\n",
              "        vertical-align: top;\n",
              "    }\n",
              "\n",
              "    .dataframe thead th {\n",
              "        text-align: right;\n",
              "    }\n",
              "</style>\n",
              "<table border=\"1\" class=\"dataframe\">\n",
              "  <thead>\n",
              "    <tr style=\"text-align: right;\">\n",
              "      <th></th>\n",
              "      <th>gender</th>\n",
              "      <th>SeniorCitizen</th>\n",
              "      <th>Partner</th>\n",
              "      <th>Dependents</th>\n",
              "      <th>tenure</th>\n",
              "      <th>PhoneService</th>\n",
              "      <th>PaperlessBilling</th>\n",
              "      <th>MonthlyCharges</th>\n",
              "      <th>TotalCharges</th>\n",
              "      <th>Churn</th>\n",
              "      <th>MultipleLines_No</th>\n",
              "      <th>MultipleLines_No phone service</th>\n",
              "      <th>MultipleLines_Yes</th>\n",
              "      <th>InternetService_DSL</th>\n",
              "      <th>InternetService_Fiber optic</th>\n",
              "      <th>InternetService_No</th>\n",
              "      <th>OnlineSecurity_No</th>\n",
              "      <th>OnlineSecurity_No internet service</th>\n",
              "      <th>OnlineSecurity_Yes</th>\n",
              "      <th>OnlineBackup_No</th>\n",
              "      <th>OnlineBackup_No internet service</th>\n",
              "      <th>OnlineBackup_Yes</th>\n",
              "      <th>DeviceProtection_No</th>\n",
              "      <th>DeviceProtection_No internet service</th>\n",
              "      <th>DeviceProtection_Yes</th>\n",
              "      <th>TechSupport_No</th>\n",
              "      <th>TechSupport_No internet service</th>\n",
              "      <th>TechSupport_Yes</th>\n",
              "      <th>StreamingTV_No</th>\n",
              "      <th>StreamingTV_No internet service</th>\n",
              "      <th>StreamingTV_Yes</th>\n",
              "      <th>StreamingMovies_No</th>\n",
              "      <th>StreamingMovies_No internet service</th>\n",
              "      <th>StreamingMovies_Yes</th>\n",
              "      <th>Contract_Month-to-month</th>\n",
              "      <th>Contract_One year</th>\n",
              "      <th>Contract_Two year</th>\n",
              "      <th>PaymentMethod_Bank transfer (automatic)</th>\n",
              "      <th>PaymentMethod_Credit card (automatic)</th>\n",
              "      <th>PaymentMethod_Electronic check</th>\n",
              "      <th>PaymentMethod_Mailed check</th>\n",
              "    </tr>\n",
              "  </thead>\n",
              "  <tbody>\n",
              "    <tr>\n",
              "      <th>0</th>\n",
              "      <td>0</td>\n",
              "      <td>0</td>\n",
              "      <td>1</td>\n",
              "      <td>0</td>\n",
              "      <td>1</td>\n",
              "      <td>0</td>\n",
              "      <td>1</td>\n",
              "      <td>29.85</td>\n",
              "      <td>29.85</td>\n",
              "      <td>0</td>\n",
              "      <td>0</td>\n",
              "      <td>1</td>\n",
              "      <td>0</td>\n",
              "      <td>1</td>\n",
              "      <td>0</td>\n",
              "      <td>0</td>\n",
              "      <td>1</td>\n",
              "      <td>0</td>\n",
              "      <td>0</td>\n",
              "      <td>0</td>\n",
              "      <td>0</td>\n",
              "      <td>1</td>\n",
              "      <td>1</td>\n",
              "      <td>0</td>\n",
              "      <td>0</td>\n",
              "      <td>1</td>\n",
              "      <td>0</td>\n",
              "      <td>0</td>\n",
              "      <td>1</td>\n",
              "      <td>0</td>\n",
              "      <td>0</td>\n",
              "      <td>1</td>\n",
              "      <td>0</td>\n",
              "      <td>0</td>\n",
              "      <td>1</td>\n",
              "      <td>0</td>\n",
              "      <td>0</td>\n",
              "      <td>0</td>\n",
              "      <td>0</td>\n",
              "      <td>1</td>\n",
              "      <td>0</td>\n",
              "    </tr>\n",
              "    <tr>\n",
              "      <th>1</th>\n",
              "      <td>1</td>\n",
              "      <td>0</td>\n",
              "      <td>0</td>\n",
              "      <td>0</td>\n",
              "      <td>34</td>\n",
              "      <td>1</td>\n",
              "      <td>0</td>\n",
              "      <td>56.95</td>\n",
              "      <td>1889.50</td>\n",
              "      <td>0</td>\n",
              "      <td>1</td>\n",
              "      <td>0</td>\n",
              "      <td>0</td>\n",
              "      <td>1</td>\n",
              "      <td>0</td>\n",
              "      <td>0</td>\n",
              "      <td>0</td>\n",
              "      <td>0</td>\n",
              "      <td>1</td>\n",
              "      <td>1</td>\n",
              "      <td>0</td>\n",
              "      <td>0</td>\n",
              "      <td>0</td>\n",
              "      <td>0</td>\n",
              "      <td>1</td>\n",
              "      <td>1</td>\n",
              "      <td>0</td>\n",
              "      <td>0</td>\n",
              "      <td>1</td>\n",
              "      <td>0</td>\n",
              "      <td>0</td>\n",
              "      <td>1</td>\n",
              "      <td>0</td>\n",
              "      <td>0</td>\n",
              "      <td>0</td>\n",
              "      <td>1</td>\n",
              "      <td>0</td>\n",
              "      <td>0</td>\n",
              "      <td>0</td>\n",
              "      <td>0</td>\n",
              "      <td>1</td>\n",
              "    </tr>\n",
              "    <tr>\n",
              "      <th>2</th>\n",
              "      <td>1</td>\n",
              "      <td>0</td>\n",
              "      <td>0</td>\n",
              "      <td>0</td>\n",
              "      <td>2</td>\n",
              "      <td>1</td>\n",
              "      <td>1</td>\n",
              "      <td>53.85</td>\n",
              "      <td>108.15</td>\n",
              "      <td>1</td>\n",
              "      <td>1</td>\n",
              "      <td>0</td>\n",
              "      <td>0</td>\n",
              "      <td>1</td>\n",
              "      <td>0</td>\n",
              "      <td>0</td>\n",
              "      <td>0</td>\n",
              "      <td>0</td>\n",
              "      <td>1</td>\n",
              "      <td>0</td>\n",
              "      <td>0</td>\n",
              "      <td>1</td>\n",
              "      <td>1</td>\n",
              "      <td>0</td>\n",
              "      <td>0</td>\n",
              "      <td>1</td>\n",
              "      <td>0</td>\n",
              "      <td>0</td>\n",
              "      <td>1</td>\n",
              "      <td>0</td>\n",
              "      <td>0</td>\n",
              "      <td>1</td>\n",
              "      <td>0</td>\n",
              "      <td>0</td>\n",
              "      <td>1</td>\n",
              "      <td>0</td>\n",
              "      <td>0</td>\n",
              "      <td>0</td>\n",
              "      <td>0</td>\n",
              "      <td>0</td>\n",
              "      <td>1</td>\n",
              "    </tr>\n",
              "    <tr>\n",
              "      <th>3</th>\n",
              "      <td>1</td>\n",
              "      <td>0</td>\n",
              "      <td>0</td>\n",
              "      <td>0</td>\n",
              "      <td>45</td>\n",
              "      <td>0</td>\n",
              "      <td>0</td>\n",
              "      <td>42.30</td>\n",
              "      <td>1840.75</td>\n",
              "      <td>0</td>\n",
              "      <td>0</td>\n",
              "      <td>1</td>\n",
              "      <td>0</td>\n",
              "      <td>1</td>\n",
              "      <td>0</td>\n",
              "      <td>0</td>\n",
              "      <td>0</td>\n",
              "      <td>0</td>\n",
              "      <td>1</td>\n",
              "      <td>1</td>\n",
              "      <td>0</td>\n",
              "      <td>0</td>\n",
              "      <td>0</td>\n",
              "      <td>0</td>\n",
              "      <td>1</td>\n",
              "      <td>0</td>\n",
              "      <td>0</td>\n",
              "      <td>1</td>\n",
              "      <td>1</td>\n",
              "      <td>0</td>\n",
              "      <td>0</td>\n",
              "      <td>1</td>\n",
              "      <td>0</td>\n",
              "      <td>0</td>\n",
              "      <td>0</td>\n",
              "      <td>1</td>\n",
              "      <td>0</td>\n",
              "      <td>1</td>\n",
              "      <td>0</td>\n",
              "      <td>0</td>\n",
              "      <td>0</td>\n",
              "    </tr>\n",
              "    <tr>\n",
              "      <th>4</th>\n",
              "      <td>0</td>\n",
              "      <td>0</td>\n",
              "      <td>0</td>\n",
              "      <td>0</td>\n",
              "      <td>2</td>\n",
              "      <td>1</td>\n",
              "      <td>1</td>\n",
              "      <td>70.70</td>\n",
              "      <td>151.65</td>\n",
              "      <td>1</td>\n",
              "      <td>1</td>\n",
              "      <td>0</td>\n",
              "      <td>0</td>\n",
              "      <td>0</td>\n",
              "      <td>1</td>\n",
              "      <td>0</td>\n",
              "      <td>1</td>\n",
              "      <td>0</td>\n",
              "      <td>0</td>\n",
              "      <td>1</td>\n",
              "      <td>0</td>\n",
              "      <td>0</td>\n",
              "      <td>1</td>\n",
              "      <td>0</td>\n",
              "      <td>0</td>\n",
              "      <td>1</td>\n",
              "      <td>0</td>\n",
              "      <td>0</td>\n",
              "      <td>1</td>\n",
              "      <td>0</td>\n",
              "      <td>0</td>\n",
              "      <td>1</td>\n",
              "      <td>0</td>\n",
              "      <td>0</td>\n",
              "      <td>1</td>\n",
              "      <td>0</td>\n",
              "      <td>0</td>\n",
              "      <td>0</td>\n",
              "      <td>0</td>\n",
              "      <td>1</td>\n",
              "      <td>0</td>\n",
              "    </tr>\n",
              "  </tbody>\n",
              "</table>\n",
              "</div>"
            ],
            "text/plain": [
              "   gender  ...  PaymentMethod_Mailed check\n",
              "0       0  ...                           0\n",
              "1       1  ...                           1\n",
              "2       1  ...                           1\n",
              "3       1  ...                           0\n",
              "4       0  ...                           0\n",
              "\n",
              "[5 rows x 41 columns]"
            ]
          },
          "metadata": {
            "tags": []
          },
          "execution_count": 13
        }
      ]
    },
    {
      "cell_type": "markdown",
      "metadata": {
        "id": "iwsIW4852sBE"
      },
      "source": [
        "# Modelo de Machine Learning\n",
        "\n",
        "Com o processamento realizado a cima, os dados já poderam ser usado nos modelos de machine learning\n",
        "Para comparar o desempenho e melhora do modelo, criaremos um baseline simples. Não farei nenhum ajuste no hiperparâmetros e nem será pensado ainda em balenceamento de dados, feature engineering ou feature selection.\n",
        "Vamos separar os dados que serão utilizados como treino e como teste. Os dados de teste irão ser usados só na última etapa do projeto, para termos uma avaliação."
      ]
    },
    {
      "cell_type": "code",
      "metadata": {
        "id": "9AXnFS4J2d3k"
      },
      "source": [
        "# separar a feature atrix da target vector\n",
        "X = df_proc.drop('Churn', axis=1)\n",
        "y = df_proc['Churn']\n",
        "\n",
        "# Dividir os dados entre treino e teste\n",
        "X_train, X_test, y_train, y_test = train_test_split(X, y, test_size=0.3)\n",
        "\n",
        "\n"
      ],
      "execution_count": 14,
      "outputs": []
    },
    {
      "cell_type": "markdown",
      "metadata": {
        "id": "il_HJy94E4cH"
      },
      "source": [
        "Vamos para o passo de padronizar e balacear os dados de Churn.\n"
      ]
    },
    {
      "cell_type": "markdown",
      "metadata": {
        "id": "tbCzgy3O5_Qv"
      },
      "source": [
        "Usarei cross-validation para estimar o erro da baseline e dos modelos iniciais. Para facilitar e melhorar o código, foi criada uma função `val_model`. A métrica utilizada para avaliação será `recall`.\n"
      ]
    },
    {
      "cell_type": "code",
      "metadata": {
        "id": "en858kvM6aZR"
      },
      "source": [
        "def val_model(X, y, clf, quite=False):\n",
        "  \"\"\"\n",
        "    Realiza cross-validation com os dados de treino para determinado modelo.\n",
        "\n",
        "    # Arguments\n",
        "        X: DataFrame, contém as variáveis independetes.\n",
        "        y: Series, vetor contendo a variável alvo.\n",
        "        clf: modelo classificador do Scikit-learn.\n",
        "        quite: bool, indicando se a função deve imprimir os resultados ou não.\n",
        "\n",
        "    # Returns\n",
        "        float, média dos scores da cross-validation.\n",
        "    \"\"\"\n",
        "\n",
        "  X = np.array(X)\n",
        "  y = np.array(y)\n",
        "\n",
        "  pipeline = make_pipeline(StandardScaler(), clf)\n",
        "  scores = cross_val_score(pipeline, X, y, scoring='recall')\n",
        "\n",
        "  if quite == False:\n",
        "    print(\"Recall: {:.2f} (+/- {:.2f})\".format(scores.mean(), scores.std()))\n",
        "    \n",
        "    return scores.mean()"
      ],
      "execution_count": 15,
      "outputs": []
    },
    {
      "cell_type": "markdown",
      "metadata": {
        "id": "yPA082l2_jgu"
      },
      "source": [
        "Para o baseline inicial, usarei o Random Forest, sem nenhum tipo de alteração nos parâmetros. Os dados que serão passados são os de treino.\n"
      ]
    },
    {
      "cell_type": "code",
      "metadata": {
        "id": "9Uc8xBiiDAx9",
        "colab": {
          "base_uri": "https://localhost:8080/"
        },
        "outputId": "f5005c7d-869f-414e-e90a-a255047b91a1"
      },
      "source": [
        "rf = RandomForestClassifier()\n",
        "score_baseline = val_model(X_train, y_train, rf)\n"
      ],
      "execution_count": 16,
      "outputs": [
        {
          "output_type": "stream",
          "text": [
            "Recall: 0.50 (+/- 0.02)\n"
          ],
          "name": "stdout"
        }
      ]
    },
    {
      "cell_type": "markdown",
      "metadata": {
        "id": "pqqS5w9ZJKOi"
      },
      "source": [
        "Uma vez que temos um baseline para comparar se os ajustes melhoram ou pioram o desempenho do modelo, irei realizar o balanceamento dos dados e ver como isso irá impactar.\n",
        "\n",
        "A técnica escolhida foi Under Sampling, após alguns teste de desempenho das outras. Seguindo recomendações de algumas literaturas, os dados serão padronizados antes de usar essa técnica de balanceamento.\n",
        "\n",
        "Balanceamento aconteça apenas com os dados de treino. Os dados de teste devem permanecer intocáveis."
      ]
    },
    {
      "cell_type": "code",
      "metadata": {
        "id": "xZAznem_IDS3",
        "colab": {
          "base_uri": "https://localhost:8080/"
        },
        "outputId": "4949f36b-b935-4e0f-81ce-d4eca37edb0a"
      },
      "source": [
        "# Padronizar os dados\n",
        "scaler = StandardScaler().fit(X_train)\n",
        "X_train = scaler.transform(X_train)\n",
        "\n",
        "rus = RandomUnderSampler()\n",
        "X_train_rus, y_train_rus = rus.fit_sample(X_train, y_train)"
      ],
      "execution_count": 17,
      "outputs": [
        {
          "output_type": "stream",
          "text": [
            "/usr/local/lib/python3.7/dist-packages/sklearn/utils/deprecation.py:87: FutureWarning: Function safe_indexing is deprecated; safe_indexing is deprecated in version 0.22 and will be removed in version 0.24.\n",
            "  warnings.warn(msg, category=FutureWarning)\n"
          ],
          "name": "stderr"
        }
      ]
    },
    {
      "cell_type": "markdown",
      "metadata": {
        "id": "MMJXX1ZYKQoW"
      },
      "source": [
        "Aplicar a validação cruzada a vários modelos, com a finalidade de identificar o seu desempenho e escolher o melhor. Serão utilizados somente dados de treino. Os modelos escolhidos são:\n",
        "\n",
        "* Random Forest\n",
        "* Decision Tree\n",
        "* Stochastic Gradient Descent\n",
        "* SVC\n",
        "* Regressão Logística\n",
        "* LightGBM"
      ]
    },
    {
      "cell_type": "code",
      "metadata": {
        "id": "htotonQhJ9xv",
        "colab": {
          "base_uri": "https://localhost:8080/",
          "height": 202
        },
        "outputId": "47c95f10-e672-4673-9b2b-aabd1bb515a0"
      },
      "source": [
        "# instanciar modelos\n",
        "rf = RandomForestClassifier()\n",
        "dt = DecisionTreeClassifier()\n",
        "sgdc = SGDClassifier()\n",
        "svc = SVC()\n",
        "lr = LogisticRegression()\n",
        "xgb = XGBClassifier()\n",
        "lgbm = LGBMClassifier()\n",
        "\n",
        "model = []\n",
        "recall = []\n",
        "# avaliar o desempenho (recall)\n",
        "model = []\n",
        "recall = []\n",
        "\n",
        "for clf in [lr, svc, xgb, rf, lgbm]:\n",
        "  model.append(clf.__class__.__name__)\n",
        "  recall.append(cross_val_score(clf, X=X_train_rus, y= y_train_rus, cv=5, scoring='recall').mean())\n",
        "\n",
        "df_ml= pd.DataFrame(recall, model, columns=['recall'])\n",
        "df_ml"
      ],
      "execution_count": 19,
      "outputs": [
        {
          "output_type": "execute_result",
          "data": {
            "text/html": [
              "<div>\n",
              "<style scoped>\n",
              "    .dataframe tbody tr th:only-of-type {\n",
              "        vertical-align: middle;\n",
              "    }\n",
              "\n",
              "    .dataframe tbody tr th {\n",
              "        vertical-align: top;\n",
              "    }\n",
              "\n",
              "    .dataframe thead th {\n",
              "        text-align: right;\n",
              "    }\n",
              "</style>\n",
              "<table border=\"1\" class=\"dataframe\">\n",
              "  <thead>\n",
              "    <tr style=\"text-align: right;\">\n",
              "      <th></th>\n",
              "      <th>recall</th>\n",
              "    </tr>\n",
              "  </thead>\n",
              "  <tbody>\n",
              "    <tr>\n",
              "      <th>LogisticRegression</th>\n",
              "      <td>0.798364</td>\n",
              "    </tr>\n",
              "    <tr>\n",
              "      <th>SVC</th>\n",
              "      <td>0.789358</td>\n",
              "    </tr>\n",
              "    <tr>\n",
              "      <th>XGBClassifier</th>\n",
              "      <td>0.796108</td>\n",
              "    </tr>\n",
              "    <tr>\n",
              "      <th>RandomForestClassifier</th>\n",
              "      <td>0.772865</td>\n",
              "    </tr>\n",
              "    <tr>\n",
              "      <th>LGBMClassifier</th>\n",
              "      <td>0.775103</td>\n",
              "    </tr>\n",
              "  </tbody>\n",
              "</table>\n",
              "</div>"
            ],
            "text/plain": [
              "                          recall\n",
              "LogisticRegression      0.798364\n",
              "SVC                     0.789358\n",
              "XGBClassifier           0.796108\n",
              "RandomForestClassifier  0.772865\n",
              "LGBMClassifier          0.775103"
            ]
          },
          "metadata": {
            "tags": []
          },
          "execution_count": 19
        }
      ]
    },
    {
      "cell_type": "markdown",
      "metadata": {
        "id": "gZvkpgKITf28"
      },
      "source": [
        "Optei pelo XGBoost, praticamente empatado com a Regressão Logística. "
      ]
    },
    {
      "cell_type": "markdown",
      "metadata": {
        "id": "ODhHNvHpR3IB"
      },
      "source": [
        "#Otimização dos Hiperparâmetros\n",
        "O XGBoost possui inúmeros parâmetros. Alguns afetam mais a qualidade do modelo, outros menos. Uma boa prática é definis uma taxa de aprendizado e número de estimadores, realizar tuning de outros parâmetros e, no final checar outras taxas de aprendizado.\n",
        "Logo abaixo, irei ajustar o número de estimadores. O modelo foi instanciado com a learning_rate=0.1\n",
        "\n"
      ]
    },
    {
      "cell_type": "code",
      "metadata": {
        "id": "qnQiDMywOh9g",
        "outputId": "7927b50d-e927-4e1b-ee44-feb445cacbb5",
        "colab": {
          "base_uri": "https://localhost:8080/"
        }
      },
      "source": [
        "xgb = XGBClassifier(learning_rate=0.1)\n",
        "\n",
        "param_grid = {\n",
        " 'n_estimators':range(0,1000,50),\n",
        "}\n",
        "\n",
        "# identificar melhor parâmetro\n",
        "kfold = StratifiedKFold(n_splits=10, shuffle=True)\n",
        "grid_search = GridSearchCV(xgb, param_grid, scoring=\"recall\", n_jobs=-1, cv=kfold)\n",
        "grid_result = grid_search.fit(X_train_rus, y_train_rus)\n",
        "\n",
        "# ver resultados\n",
        "print(\"Melhor: {} para {}\".format(grid_result.best_score_, grid_result.best_params_))"
      ],
      "execution_count": 25,
      "outputs": [
        {
          "output_type": "stream",
          "text": [
            "Melhor: 0.8148692627090114 para {'n_estimators': 50}\n"
          ],
          "name": "stdout"
        }
      ]
    },
    {
      "cell_type": "markdown",
      "metadata": {
        "id": "NsjTfG8sYTzc"
      },
      "source": [
        "Com o número de estimadores igual a 50, realizarei a busca pelos parâmetros `max_depth` e `min_child_weight`"
      ]
    },
    {
      "cell_type": "code",
      "metadata": {
        "id": "7Ax1YWdbYlzs",
        "outputId": "c5a6f9f8-8d2d-446b-9879-121d43bc27d5",
        "colab": {
          "base_uri": "https://localhost:8080/"
        }
      },
      "source": [
        "xgb = XGBClassifier(learning_rate=0.1, n_estimator=50)\n",
        "\n",
        "param_grid = {\n",
        "    'max_depth':range(1,8,1),\n",
        "    'min_child_weight':range(1,5,1)\n",
        "}\n",
        "\n",
        "# identificar melhor parâmetro\n",
        "kfold = StratifiedKFold(n_splits=10, shuffle=True)\n",
        "grid_search = GridSearchCV(xgb, param_grid, scoring=\"recall\", n_jobs=-1, cv=kfold)\n",
        "grid_result = grid_search.fit(X_train_rus, y_train_rus)\n",
        "\n",
        "# ver resultados\n",
        "print(\"Melhor: {} para {}\".format(grid_result.best_score_, grid_result.best_params_))\n"
      ],
      "execution_count": 27,
      "outputs": [
        {
          "output_type": "stream",
          "text": [
            "Melhor: 0.8111210862978341 para {'max_depth': 1, 'min_child_weight': 1}\n"
          ],
          "name": "stdout"
        }
      ]
    },
    {
      "cell_type": "markdown",
      "metadata": {
        "id": "9BXnEjzLcvTz"
      },
      "source": [
        "Uma taxa de aprendizado menor, conseguiu melhorar o desempenho do modelo XGBoost, considerando `recall` como sendoa única médtrica de importância.\n",
        "Agora, treina-se o modelo em cima do dataset de treino completo e verifica- se o desempeho final em cima dos dados de teste, no seu primeiro contato com esse sub-conjunto que havia sido preservado.\n"
      ]
    },
    {
      "cell_type": "code",
      "metadata": {
        "id": "V4qWj6aYaS1G",
        "outputId": "ef4057de-1fd3-4f56-fdef-aae0133d7fad",
        "colab": {
          "base_uri": "https://localhost:8080/",
          "height": 486
        }
      },
      "source": [
        "# modelo final\n",
        "xgb = XGBClassifier(learning_rate=0.001, n_estimators=50, max_depth=1, min_child_weight=1, gamma=0.0)\n",
        "xgb.fit(X_train_rus, y_train_rus)\n",
        "\n",
        "#fazer a previsão\n",
        "X_test = scaler.transform(X_test)\n",
        "y_pred = xgb.predict(X_test)\n",
        "\n",
        "#Classification Report\n",
        "print(classification_report(y_test, y_pred))\n",
        "\n",
        "#imprimir a área sob a curva\n",
        "print(\"AUC: {:.4f}\\n\".format(roc_auc_score(y_test, y_pred)))\n",
        "\n",
        "#Plotar matriz de confusão\n",
        "plot_confusion_matrix(y_test, y_pred, normalize=True)\n",
        "plt.show()"
      ],
      "execution_count": 29,
      "outputs": [
        {
          "output_type": "stream",
          "text": [
            "              precision    recall  f1-score   support\n",
            "\n",
            "           0       0.93      0.58      0.72      1578\n",
            "           1       0.42      0.87      0.56       535\n",
            "\n",
            "    accuracy                           0.66      2113\n",
            "   macro avg       0.67      0.73      0.64      2113\n",
            "weighted avg       0.80      0.66      0.68      2113\n",
            "\n",
            "AUC: 0.7289\n",
            "\n"
          ],
          "name": "stdout"
        },
        {
          "output_type": "display_data",
          "data": {
            "image/png": "[encoded data removed]",
            "text/plain": [
              "<Figure size 432x288 with 2 Axes>"
            ]
          },
          "metadata": {
            "tags": [],
            "needs_background": "light"
          }
        }
      ]
    },
    {
      "cell_type": "markdown",
      "metadata": {
        "id": "L3JdpBTXgVHq"
      },
      "source": [
        "#Conclusão\n",
        "Os dados de teste não haviam sido passados para o modelo ainda. No entanto, ele manteve um desempenho próximo aquele estimado anteriormente através de otimização nos parâmetros.\n",
        "O modelo não ficou satisfatório, pois uma métrica de extrema importânncia para o nosso modelo de Churn seria o `recall`, pois nosso objetivo é a diminuição de saídas de clientes do serviço. \n",
        "Com esse modelo foi possível vermos alguns padrões no qual busquemos soluções para minimização do churn da empresa.\n"
      ]
    }
  ]
}